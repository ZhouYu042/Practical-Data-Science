{
 "cells": [
  {
   "cell_type": "markdown",
   "metadata": {},
   "source": [
    "# House Price Prediction in Pittsburgh"
   ]
  },
  {
   "cell_type": "markdown",
   "metadata": {},
   "source": [
    "### Motivation and Objectives\n",
    "\n",
    "A home is often the largest and most expensive purchase a person makes in his or her lifetime. The house prices of a city can ususally reflects the economic condition to some extend. Moreover, house prices trends are always a concern of as an asset investment for buyers. Therefore, as data scientist, creating a decent house price prediction model can help people to make decision in making house investment. \n",
    "\n",
    "Unlike other house price prediction model, our model collects data from multiple resources, including trulia.com, which is a home and neighborhood website that offers buyers and renters detailed information related to the house on sell. In addition, We also collect data from YELP about the restaurant nearby a given house as well as the walkscore date of walkability, availability of transit and bike are also collected from the walk score API. \n",
    "\n"
   ]
  },
  {
   "cell_type": "markdown",
   "metadata": {},
   "source": [
    "### Table of Content:\n",
    "\n",
    "1. [Data Collection](#Data-Collection)\n",
    "2. [Dataset Description](#Dataset-Description)\n",
    "3. [Data Cleaning](#Data-Cleaning)\n",
    "4. [Exploratory Data Analysis](#Exploratory-Data-Analysis)\n",
    "5. [Data Preprocessing](#Data-Preprocessing)\n",
    "6. [Feature Exploration, Engineering and Cleaning]\n",
    "7. [Predictive Model]\n",
    "8. [Conclusion]\n",
    "9. [Limitation and Future Work]\n",
    "10. [Reference]"
   ]
  },
  {
   "cell_type": "markdown",
   "metadata": {},
   "source": [
    "### Import Libraries"
   ]
  },
  {
   "cell_type": "code",
   "execution_count": 96,
   "metadata": {},
   "outputs": [],
   "source": [
    "\n",
    "import pandas as pd\n",
    "import io, time, json\n",
    "import requests\n",
    "from pathlib import Path\n",
    "from bs4 import BeautifulSoup\n",
    "import numpy as np\n",
    "import random\n",
    "from sklearn.model_selection import train_test_split\n",
    "import matplotlib.pyplot as plt\n",
    "import seaborn as sns\n",
    "from scipy.stats import norm, skew\n",
    "from scipy import stats\n",
    "import pandas_profiling as pp\n",
    "import warnings\n",
    "warnings.filterwarnings('ignore')\n",
    "from scipy.special import boxcox1p\n"
   ]
  },
  {
   "cell_type": "markdown",
   "metadata": {},
   "source": [
    "## Data Collection\n",
    "\n",
    "The dataset for this project is mainly collected from three sources, Trulia.com, Yelp API and WalkScore.com. In order to get recent transaction of property sold in Pittsburh, a list of properties sold within 9 month is scraped from trulia websearch page. We believe that the property value is closely related to the the walkability of the neighborhoods. That is, a walkable neighborhoods with high accessibility to quality public transit, civic and community facilities and services tend to raise property value. With this purpose, we collect relavant neiborhood information from WalkScore and Yelp API. The data collection pipeline is shown in blow figure.\n",
    "\n"
   ]
  },
  {
   "cell_type": "markdown",
   "metadata": {},
   "source": [
    "\n",
    "<img src=\"./img/data_collection2.jpg\" alt=\"Drawing\" style=\"width: 600px;\"/>"
   ]
  },
  {
   "cell_type": "markdown",
   "metadata": {},
   "source": [
    "When we scrape data from trulia and walkscore webpages, we used `agent` and `time.sleep()` to pretend human users and avoid being denied from accessing. It takes too long to run the whole data block related to data collection. To better illustrate the process, we will use an example from the dataset to walk you through the process. The code we used for scraping the data will also be provided at each step.\n",
    "\n",
    "#### Step 1 - Scrape property sold transaction list from Trulia\n",
    "The first step is to scrape a list of houses in Pittsburgh that were sold in the last 9 months. Since we used `time.sleep()` to pretend we are human users, it takes too long to run the whole block of code we used in this step. Please check [`data_collection_trulia_list.py`](./code/data_collection_trulia_list.py) for detailed code of this step. We restrict the property sold transaction within the last 9 months. Below is an example, it is one of the data entries we scraped from Trulia. We will use the example in the following steps. \n",
    "\n",
    "| street_address | postal_code | latitude | longitude | link | page | num | address_locality | address_region | scrape_generated | link_generated | is_same | property |\n",
    "| --- |:---:|:--- |: --- |:---:|:--- |: --- |:---:|:--- |: --- |:---:|:--- |: --- |\n",
    "|701 Amberson Ave |\t15232 |\t40.450714 |\t-79.94018 |\thttps://www.trulia.com/p/pa/pittsburgh/701-amberson-ave-pittsburgh-pa-15232--2014230510 | 160 | 15 | Pittsburgh | PA | 701 amberson ave pittsburgh pa 15232 | 701 amberson ave pittsburgh pa 15232 | 1 | 0 |\n",
    "\n",
    "\n",
    "Some of the houses have different format than others in the html content, which makes the output csv not we expected. We select these entries, check the information and input the correct information manually. The output is stored as a csv file. Please refer to [`scrape_trulia_list.csv`](./scrape_data/scrape_trulia_list.csv) in the \"scrape\" folder for detailed information."
   ]
  },
  {
   "cell_type": "markdown",
   "metadata": {},
   "source": [
    "#### Step 2 - Scrape data from Yelp\n",
    "Once we get latitude and longitude of the house from step 1, we can collect nearby restaurant, art and entertainment, as well as grocery information for each property from Yelp through making authenticated HTTP request to the Yelp API business search endpoint. The query passed to API request include `latitude` and `longitude` of the property, search `radius` and the `category` for business search.  \n",
    "The data we collected from Yelp are\n",
    " * number of restaurant nearby\n",
    " * average rating of restaurant nearby\n",
    " * average price level of restaurant nearby\n",
    " * number of art and entertainment services nearby\n",
    " * number of grocery store nearby\n",
    "\n",
    "Some example code to get data from Yelp API is shown in below block.  Please check [`scrape_yelp&walkscore.py`](./code/dscrape_yelp&walkscore.py) for detailed code of this step. "
   ]
  },
  {
   "cell_type": "code",
   "execution_count": 55,
   "metadata": {},
   "outputs": [],
   "source": [
    "# source code from course homework\n",
    "# Args: url (string):\n",
    "# Returns: status_code (integer), raw_html (string)\n",
    "def retrieve_html(url):\n",
    "   \n",
    "    response = requests.get(url)\n",
    "    status = response.status_code\n",
    "    content = response.text\n",
    "    \n",
    "    return (status, content)\n",
    "\n",
    "def read_api_key(filepath=r\"./scrape_data/api_key_clear.txt\"):\n",
    "    return Path(filepath).read_text().strip()\n",
    "\n",
    "# Make an authenticated request to the Yelp API, modified from \n",
    "# Args:  query (tuple): (latitude, longitude, radius, category)\n",
    "# returns: total (integer): total number of businesses on Yelp corresponding to the query \n",
    "#          businesses (list): list of dicts representing each business\n",
    "\n",
    "def yelp_search(api_key, query):\n",
    "        \n",
    "    header =  {'Authorization': 'Bearer '+ api_key}\n",
    "    url = \"https://api.yelp.com/v3/businesses/search\"\n",
    "    searchKey = dict()\n",
    "    \n",
    "    \n",
    "    lat, long, radius, cat = query\n",
    "    \n",
    "    searchKey[\"latitude\"] = lat\n",
    "    searchKey[\"longitude\"] = long\n",
    "    searchKey[\"radius\"] = radius\n",
    "    searchKey[\"categories\"] = cat\n",
    "    \n",
    "    searchKey[\"sort_by\"] = \"distance\"\n",
    "    searchKey[\"location\"] = \"Pittsburgh\"\n",
    "    \n",
    "    response = requests.get(url, params=searchKey, headers=header)\n",
    "     \n",
    "    \n",
    "    business = []\n",
    "    \n",
    "    responseDict = json.loads(response.text)\n",
    "    \n",
    "    if \"businesses\" in responseDict:\n",
    "        business = responseDict[\"businesses\"]\n",
    "        \n",
    "    total = responseDict[\"total\"]\n",
    "    \n",
    "    return total, business\n",
    "\n",
    "# Get average rating and price level of business list\n",
    "# Args: total: total (integer): total number of businesses\n",
    "#       businesses (list): list of dicts representing each business\n",
    "# Returns: average_rating(float), average_price(float)\n",
    "def get_average(total, business):\n",
    "    \n",
    "    ratings = 0\n",
    "    prices = 0\n",
    "    rating_count = 0\n",
    "    price_count = 0\n",
    "    res_rating = 0\n",
    "    res_price = 0\n",
    "    \n",
    "    for res in business:\n",
    "\n",
    "        if \"rating\" in res:\n",
    "            rating = res[\"rating\"]\n",
    "            ratings += rating\n",
    "            rating_count += 1\n",
    "        \n",
    "        \n",
    "        if \"price\" in res:\n",
    "            price = res[\"price\"]\n",
    "            prices += len(price)\n",
    "            price_count += 1\n",
    "            \n",
    "    if rating_count != 0:\n",
    "        res_rating = ratings / rating_count\n",
    "        \n",
    "    if price_count != 0:\n",
    "        res_price = prices / price_count\n",
    "    \n",
    "    if total == 0:\n",
    "        return 0, 0\n",
    "        \n",
    "    return res_rating, res_price"
   ]
  },
  {
   "cell_type": "markdown",
   "metadata": {},
   "source": [
    "In below block, we use an example to illustrate the content we scrape from yelp."
   ]
  },
  {
   "cell_type": "code",
   "execution_count": 56,
   "metadata": {},
   "outputs": [
    {
     "name": "stdout",
     "output_type": "stream",
     "text": [
      "number of restaurant nearby: 92 \n",
      "average rating of restaurant nearby: 3.6 \n",
      "average price level of restaurant nearby: 1.5 \n",
      "number of art and entertainment nearby: 46 \n",
      "number of grocery nearby: 13 \n"
     ]
    }
   ],
   "source": [
    "df = pd.read_csv(r\"./scrape_data/scrape_trulia_list.csv\")\n",
    "item = df[df[\"street_address\"] == \"701 Amberson Ave\"]\n",
    "lat, long, url = item[\"latitude\"], item[\"longitude\"], item[\"link\"]\n",
    "query_restaurant = (lat, long, 1000, \"restaurants\")\n",
    "query_art = (lat, long, 1500, \"arts\")\n",
    "query_grocery = (lat, long, 1500, \"grocery\")\n",
    "total_restaurant, business_restaurant = yelp_search(read_api_key(), query_restaurant)\n",
    "average_rating, average_price = get_average(total_restaurant, business_restaurant)\n",
    "total_art, business_art = yelp_search(read_api_key(), query_art)\n",
    "total_grocery, business_grocery = yelp_search(read_api_key(), query_grocery)\n",
    "print(\"number of restaurant nearby: %d \" %total_restaurant)\n",
    "print(\"average rating of restaurant nearby: %0.1f \" %average_rating)\n",
    "print(\"average price level of restaurant nearby: %0.1f \" %average_price)\n",
    "print(\"number of art and entertainment nearby: %d \" %total_art)\n",
    "print(\"number of grocery nearby: %d \" %total_grocery)"
   ]
  },
  {
   "cell_type": "markdown",
   "metadata": {},
   "source": [
    "#### Step 3 - Scrape scores from WalkScore\n",
    "The next step is to retrive walkability, transit accessibility and bike accessibility of corresponding location from WalkScore webpage. We then generate corresponding WalkScore url for each property using property street address and scrape scores from webpage badges. The code block below shows some base function we use to scrape score,  Please check [`scrape_yelp&walkscore.py`](./code/dscrape_yelp&walkscore.py) for detailed code of this step. "
   ]
  },
  {
   "cell_type": "code",
   "execution_count": 57,
   "metadata": {},
   "outputs": [
    {
     "name": "stdout",
     "output_type": "stream",
     "text": [
      "Scores for 701 Amberson Avenues: {'walk': '78', 'transit': '69', 'bike': '53'}\n"
     ]
    }
   ],
   "source": [
    "# Generate link to corresponding walkscore webpage according to a house's trulia link\n",
    "# Args: link(string): trulia link of the house\n",
    "# Return: url(string): url of corresponding walkscore page for the house\n",
    "def get_url(link):\n",
    "#     link = link.to_string()\n",
    "#     print(link)\n",
    "    link.reset_index(inplace=True, drop=True)\n",
    "    walkscore_path = \"https://www.walkscore.com/score/\"\n",
    "    temp = \"-\".join(link[0].split(\"/\")[-1].split(\"-\")[:-2])\n",
    "    url = walkscore_path + temp\n",
    "    return url\n",
    "\n",
    "#  Scrape walk, bike and transit score from webpage\n",
    "# Args: url(string): url of walkscore page for a house\n",
    "# Returns: score(dict): dictonary stores walk, bike and transit score for the house\n",
    "def get_score(url):\n",
    "    agent = {\"User-Agent\":'Mozilla/5.0 (Windows NT 6.3; WOW64) AppleWebKit/537.36 (KHTML, like Gecko) Chrome/59.0.3071.115 Safari/537.36'}\n",
    "    page = requests.get(url, headers=agent)\n",
    "    root = BeautifulSoup(page.content, \"html.parser\")\n",
    "    content = root.find_all(\"img\")\n",
    "\n",
    "    score = dict()\n",
    "    \n",
    "    for img in content:\n",
    "        src = img.get(\"src\")\n",
    "        alt = img.get(\"alt\")\n",
    "        \n",
    "        if src != None and src.startswith(\"//pp.walk.sc/badge/\"):\n",
    "            name = src.split(\"/\")[-3].lower()\n",
    "            s = src.split(\"/\")[-1].split(\".\")[0].lower()\n",
    "            score[name] = s\n",
    "        if len(score) == 3:\n",
    "            break\n",
    "    return score\n",
    "\n",
    "ws_url = get_url(url)\n",
    "score = get_score(ws_url)\n",
    "print(\"Scores for 701 Amberson Avenues: %s\" %score)"
   ]
  },
  {
   "cell_type": "markdown",
   "metadata": {},
   "source": [
    "#### Step 4:\n",
    "More Trulia Information\n",
    "#### Step 5:\n",
    "After we successfully get all the data we need for the analysis, we first need to put all the inforamtion together. We did that by parsing the csv files as dataframes, join them into a larger dateframe based on the \"address\" and output as a csv file. Please refer to [data.csv](./scrape_data/data.csv) for detailed information."
   ]
  },
  {
   "cell_type": "code",
   "execution_count": 62,
   "metadata": {
    "scrolled": true
   },
   "outputs": [],
   "source": [
    "trulia_file = r\"./scrape_data/trulia_information.csv\" \n",
    "yelp_ws_file = r\"./scrape_data/yelp_ws_information.csv\"\n",
    "\n",
    "trulia = pd.read_csv(trulia_file, thousands=\",\")\n",
    "yelp_ws = pd.read_csv(yelp_ws_file)\n",
    "df = trulia.merge(yelp_ws, on = [\"address\"], how = 'left')\n",
    "df.to_csv(r\"./scrape_data/data.csv\",index = False)"
   ]
  },
  {
   "cell_type": "markdown",
   "metadata": {},
   "source": [
    "Now all the information are stored in the csv file \"data.csv\". We can first have a summary of the dataframe."
   ]
  },
  {
   "cell_type": "code",
   "execution_count": null,
   "metadata": {},
   "outputs": [],
   "source": [
    "pp.ProfileReport(df)"
   ]
  },
  {
   "cell_type": "markdown",
   "metadata": {},
   "source": [
    "## Dataset Description\n",
    "\n",
    "The dataset consists 6045 instances, each row respresents a property in Pittsburgh. The goal is to predict the sold price of the property based on !!!! numerical features and !!!!! categorical features. The features are:\n",
    "\n",
    "| Column | Type | Description |\n",
    "| --- |:---:|:--- |\n",
    "| address | categorical | street address of the house |\n",
    "| postcode | categorical | zipcode of the property |\n",
    "| latitude | continnuous | |\n",
    "| longitude| continnuous | |\n",
    "| link | - | trulia link of the property |\n",
    "| home_type | categorical | `House`, `Condo`, `Townhouse`, `Multi-family`|\n",
    "| architecture_type | categorical | `Colonial`, `Craftsman`, `CapeCod`, `Ranch`, `Victorian`, `Contemporary`, `SplitLevel`, `Tudor`, `Bungalow`, `Modern`, `French`, `Georgian`, `Loft`, `Multi` |\n",
    "| stories | caregorical | `1`, `2`, `3`, `4`, `9`, `split`, `bi-level`|\n",
    "| number_of_beds | continuous | number of bedroom in the house |\n",
    "| number_of_baths | continuous | number of bathroom in the house |\n",
    "| area | continuous | floor area of the house |\n",
    "| lot_size | continuous | lot size of the property |\n",
    "| built_year | continuous | built in year of the property |\n",
    "| number_of_rooms | continuous | number of rooms |\n",
    "| parking | categorical | `Attached garage`, `Detached garage`, `Off Street parking`, `On Street parking`, `Garage lot` |\n",
    "| parking_space| continuous | number of parking space |\n",
    "| exterior | categorical | `Vinyl`, `Brick`, `Wood`, `Brick Stone Vinyl`, `Brick Vinyl`, `Stone Vinyl`, `Stone Stucco`, `Cement Concrete Wood`, `Cement Concrete`, `Brick Wood`, `Brick Cement Concrete Stucco`, `Metal`, `Brick Cement Concrete`, `Stone`, `Brick Stone`, `Other`, `Rock, Stone`, `Masonry`, `Vinyl Wood`, `Cement Concrete Stucco`, `Stucco`, `Brick Metal`, `Brick Cement Concrete Vinyl`, `Cement Concrete Vinyl`, `Concrete Block`, `Shingle Vinyl`, `Brick Stone Stucco Wood`, `Wood Wood Products`, `Brick Stone Wood`, `Construction Brick`, `Brick Stucco`, `Composition Stone`, `Brick Metal Vinyl Wood Products`, `Metal Stone`, `Concrete`, `Brick Vinyl Wood`, `Shingle`, `Brick Metal Wood` |\n",
    "| dishwasher | categorical | has dishwasher or not |\n",
    "| microwave | categorical | has microwave or not |\n",
    "| dryer | categorical | has dryer or not |\n",
    "| washer | categorical | has washer or not |\n",
    "| refrigerator | categorical | has refrigerator or not |\n",
    "| heating_system | categorical | `Baseboard`, `Central`, `Electric`, `Forced air`, `Gas`, `Heat pumpa`, `Radiant`, `Wall`, `Other` | \n",
    "| heating_fuel | categorical | `Electric`, `Gas`, `Natural gas`, `Oil`, `Solar`, `Other` |\n",
    "| cooling_system | categorical | `Central`, `Solar`, `Wall`, `None` |\n",
    "| roof | categorical | `Asphalt`, `Shake Shingle`, `Slate', 'Composition`, `Shingle (Not Wood)`, `Metal`, `Tile`, `Roll Composition`, `Built Up`, `Roofing Asphalt`, `Slate Roof`, `Asphalt Roof` |\n",
    "| restaurant_count | continuous | number of nearby restaurant | \n",
    "| restaurant_rating | continuous | average rating of nearby restaurant | \n",
    "| restaurant_price | continuous | average price level of nearby restaurant |\n",
    "| arts_count | continuous | number of art and entertainment business nearby |\n",
    "| grocery_count | continuous | number of groceries nearby |\n",
    "| walk | continuous | walk score at the property location |\n",
    "| transit | continuous | transit score at the property location |\n",
    "| bike | continuous | bike score at the property location |\n",
    "| price | continuous |latest sold price of the property |"
   ]
  },
  {
   "cell_type": "markdown",
   "metadata": {},
   "source": [
    "## Data Cleaning\n",
    "For data cleaning process, steps are as following:\n",
    "1. Remove rows with missing important feature and unrealistic feature \n",
    "2. Format unstructed column\n",
    "2. Drop features with high percentage of missing values (NAN)\n",
    "3. Handle remain NAN values\n",
    "    * Categorical feature: replace nan value with type \"None\" or \"Unknown\"\n",
    "    * Numerical feature: replace nan value with median value or fitted value\n",
    "4. Remove outliters\n",
    "5. Map datatype\n",
    "6. Reset index\n",
    "\n",
    "Let's take a look at percentage of missing value for each feature first."
   ]
  },
  {
   "cell_type": "code",
   "execution_count": 104,
   "metadata": {},
   "outputs": [
    {
     "data": {
      "text/plain": [
       "address               0.000000\n",
       "link                  0.000000\n",
       "number_beds           0.000000\n",
       "number_baths          0.000000\n",
       "area                  0.000000\n",
       "sold information      0.000000\n",
       "dishwasher            0.000000\n",
       "microwave             0.000000\n",
       "washer                0.000000\n",
       "dryer                 0.000000\n",
       "refrigerator          0.000000\n",
       "building_type         0.000000\n",
       "lot_size             12.565362\n",
       "built_year            0.332752\n",
       "number_of_rooms      23.577880\n",
       "heating_system       15.148154\n",
       "heating_fuel         62.097924\n",
       "cooling_system       44.984947\n",
       "parking              47.187450\n",
       "parking_spaces       46.537791\n",
       "architecture_type    55.062589\n",
       "stories              38.979559\n",
       "exterior             34.923150\n",
       "roof                 22.975757\n",
       "price                 2.392648\n",
       "postcode              0.000000\n",
       "latitude              0.000000\n",
       "longitude             0.000000\n",
       "restaurant_count      0.000000\n",
       "restaurant_rating     0.000000\n",
       "restaurant_price      0.000000\n",
       "arts_count           12.200919\n",
       "grocery_count        12.628743\n",
       "walk                  0.015845\n",
       "transit               0.000000\n",
       "bike                 27.570908\n",
       "dtype: float64"
      ]
     },
     "execution_count": 104,
     "metadata": {},
     "output_type": "execute_result"
    }
   ],
   "source": [
    "df = pd.read_csv(r\"./scrape_data/data.csv\", thousands=\",\")\n",
    "pd.isna(df).sum() / len(df) * 100"
   ]
  },
  {
   "cell_type": "markdown",
   "metadata": {},
   "source": [
    "Since property sold price is our target and built in year has very small percentage of missing value, we remove rows with no price and built in year information. Since the floor are must be greater than zero, rows with floor area smaller than zero are also dropped."
   ]
  },
  {
   "cell_type": "code",
   "execution_count": 105,
   "metadata": {},
   "outputs": [],
   "source": [
    "# drop rows with missing price and built year\n",
    "df = df[(pd.notna(df.price))]\n",
    "df = df[(pd.notna(df.built_year))]\n",
    "df = df[df['area'] > 0]"
   ]
  },
  {
   "cell_type": "markdown",
   "metadata": {},
   "source": [
    "In original dataset, units (sf, acre) are included in the lot size column. Hence, we need to format lot size column and covert into universal unit."
   ]
  },
  {
   "cell_type": "code",
   "execution_count": 106,
   "metadata": {},
   "outputs": [],
   "source": [
    "# This function remove unit in lot size column and change all unit to squarefeet.\n",
    "def conver_lotsize(df):\n",
    "    res = []\n",
    "    for i in df[\"lot_size\"]:\n",
    "        if isinstance(i,float):\n",
    "            res.append(i)\n",
    "            continue\n",
    "        ii = i.split(\" \")\n",
    "        if  ii[-1] == 'acres' or ii[-1] == 'acre':\n",
    "\n",
    "            t = ii[0]\n",
    "            r = \"\".join(t.split(\",\"))\n",
    "            res.append(43560 * float(r))\n",
    "            continue\n",
    "        if ii[-1] == 'sqft':\n",
    "            t = ii[0]\n",
    "            r = \"\".join(t.split(\",\"))\n",
    "            res.append(float(r))\n",
    "        else:\n",
    "            res.append(i)\n",
    "    df[\"lot_size\"] = res\n",
    "    return df\n",
    "\n",
    "df = conver_lotsize(df)\n"
   ]
  },
  {
   "cell_type": "markdown",
   "metadata": {},
   "source": [
    "Then, useless features such as `address`, `link`, and `sold information` are removed from dataset. In addition, features with high percentage of missing values (nan) such as `heating_fuel`, `architecture_type`, `exterior`, `bike`, `number_of_rooms`, `parking_spaces`, `roof` are dropped here."
   ]
  },
  {
   "cell_type": "code",
   "execution_count": 107,
   "metadata": {},
   "outputs": [],
   "source": [
    "drop_list = [\"address\", \"link\", \"sold information\",\"heating_fuel\",\"architecture_type\", \"exterior\", \"bike\", \"number_of_rooms\", \"parking_spaces\", \"roof\"]\n",
    "df = df.drop(drop_list, axis = 1)"
   ]
  },
  {
   "cell_type": "markdown",
   "metadata": {},
   "source": [
    "The next step is to handle remaining nan values for each feature. Categorical features like `cooling_system`, `heating_system` and `parking`, we reasonablely assume the property does not have these features if these information are not listed in website. Hence, the missing values for these three features are replaced with `None` tag. As for `stories`, the missing values are replaced with `Unknown` tag.\n"
   ]
  },
  {
   "cell_type": "code",
   "execution_count": 108,
   "metadata": {},
   "outputs": [],
   "source": [
    "df[\"cooling_system\"].fillna(\"None\", inplace = True)\n",
    "df[\"heating_system\"].fillna(\"None\", inplace = True)\n",
    "df[\"parking\"].fillna(\"None\", inplace = True)\n",
    "df[\"stories\"].fillna(\"Unknown\", inplace = True)\n"
   ]
  },
  {
   "cell_type": "markdown",
   "metadata": {},
   "source": [
    "Countinuous numerical features such as `lot_size` and `walk`, missing values are replaced with `median`. As for `arts_count` and `grocery_count`, missing values are filled with `zeros` which means there is no art and entertainment services and grocery store nearby.\n"
   ]
  },
  {
   "cell_type": "code",
   "execution_count": 109,
   "metadata": {},
   "outputs": [],
   "source": [
    "lotsize_mean = df[df[\"lot_size\"] != -1][\"lot_size\"].median()\n",
    "df[\"lot_size\"].fillna(lotsize_mean, inplace = True)\n",
    "df[\"walk\"].fillna(df.walk.median(), inplace = True)\n",
    "df[\"arts_count\"].fillna(0, inplace = True)\n",
    "df[\"grocery_count\"].fillna(0, inplace = True)"
   ]
  },
  {
   "cell_type": "markdown",
   "metadata": {},
   "source": [
    "Here, properties with sold price falling outside plus and minus 3 standard deviations range are considered as outliers."
   ]
  },
  {
   "cell_type": "code",
   "execution_count": 110,
   "metadata": {},
   "outputs": [],
   "source": [
    "df = df[np.abs(df.price - df.price.mean()) <= (3 * df.price.std())]"
   ]
  },
  {
   "cell_type": "markdown",
   "metadata": {},
   "source": [
    "Finally, data types are mapped accordingly."
   ]
  },
  {
   "cell_type": "code",
   "execution_count": 111,
   "metadata": {},
   "outputs": [],
   "source": [
    "datatype = {\n",
    "            \"dishwasher\": np.str,\n",
    "            \"microwave\": np.str, \n",
    "            \"washer\":np.str, \n",
    "            \"dryer\":np.str, \n",
    "            \"refrigerator\":np.str, \n",
    "            \"number_beds\": np.int64,\n",
    "            \"number_baths\": np.int64,\n",
    "            \"built_year\": np.int64,\n",
    "            \"price\": np.int64,\n",
    "            \"postcode\": np.str\n",
    "            }\n",
    " \n",
    "df = df.astype(datatype)\n",
    "df.reset_index(inplace=True, drop=True)\n",
    "\n"
   ]
  },
  {
   "cell_type": "code",
   "execution_count": 113,
   "metadata": {},
   "outputs": [],
   "source": [
    "df.to_csv(\"data_eda.csv\", index = False)"
   ]
  },
  {
   "cell_type": "markdown",
   "metadata": {},
   "source": [
    "## Data Preprocessing"
   ]
  },
  {
   "cell_type": "markdown",
   "metadata": {},
   "source": [
    "#### Price Distribution Analysis\n",
    "reference: https://brianmusisi.com/design/Predicting+House+Prices-2.html"
   ]
  },
  {
   "cell_type": "code",
   "execution_count": 92,
   "metadata": {},
   "outputs": [
    {
     "data": {
      "image/png": "[encoded data removed]",
      "text/plain": [
       "<Figure size 576x432 with 1 Axes>"
      ]
     },
     "metadata": {
      "needs_background": "light"
     },
     "output_type": "display_data"
    },
    {
     "data": {
      "image/png": "[encoded data removed]",
      "text/plain": [
       "<Figure size 576x432 with 1 Axes>"
      ]
     },
     "metadata": {
      "needs_background": "light"
     },
     "output_type": "display_data"
    },
    {
     "name": "stdout",
     "output_type": "stream",
     "text": [
      "Skewness: 1.3054851659801978\n",
      "Kurtosis: 2.0305758105025213\n"
     ]
    }
   ],
   "source": [
    "fig = plt.figure(figsize=(8, 6))\n",
    "sns.distplot(df['price'], fit=norm)\n",
    "plt.ylabel('frequency')\n",
    "plt.title('price distribution')\n",
    "\n",
    "fig = plt.figure(figsize=(8, 6))\n",
    "stats.probplot(df['price'], plot = plt)\n",
    "plt.show()\n",
    "\n",
    "print(\"Skewness: \" + str(df[\"price\"].skew()))\n",
    "print(\"Kurtosis: \" + str(df[\"price\"].kurt()))"
   ]
  },
  {
   "cell_type": "markdown",
   "metadata": {},
   "source": [
    "From the above analysis, we can conclude that the houses prices are skewed. In linear model, one assumption is that training sample has the similar distribution with the real data. Also, normalizing data usually benefits the performance of the model. We decided to normalize the price data first. We applied `log transformation` to the price by adding a constant `88000` and then using `np.log1p` and stored the data in a new column named `price_t`"
   ]
  },
  {
   "cell_type": "code",
   "execution_count": 93,
   "metadata": {},
   "outputs": [
    {
     "data": {
      "image/png": "[encoded data removed]",
      "text/plain": [
       "<Figure size 576x432 with 1 Axes>"
      ]
     },
     "metadata": {
      "needs_background": "light"
     },
     "output_type": "display_data"
    },
    {
     "data": {
      "image/png": "[encoded data removed]",
      "text/plain": [
       "<Figure size 576x432 with 1 Axes>"
      ]
     },
     "metadata": {
      "needs_background": "light"
     },
     "output_type": "display_data"
    },
    {
     "name": "stdout",
     "output_type": "stream",
     "text": [
      "Skewness: 0.05637766761117498\n",
      "Kurtosis: 0.05489061107458548\n"
     ]
    }
   ],
   "source": [
    "df['price_t'] = np.log1p(df[\"price\"] + 88000)\n",
    "fig = plt.figure(figsize=(8, 6))\n",
    "sns.distplot(df['price_t'],fit=norm)\n",
    "plt.ylabel('frequency')\n",
    "plt.title('price distribution')\n",
    "\n",
    "fig = plt.figure(figsize=(8, 6))\n",
    "stats.probplot(df[\"price_t\"], plot=plt)\n",
    "plt.show()\n",
    "\n",
    "print(\"Skewness: \" + str(df[\"price_t\"].skew()))\n",
    "print(\"Kurtosis: \" + str(df[\"price_t\"].kurt()))"
   ]
  },
  {
   "cell_type": "markdown",
   "metadata": {},
   "source": [
    "Then we will examine other features' skewness. We only focus on the columns whose `dtype` is float or int and has not been normalized before. "
   ]
  },
  {
   "cell_type": "code",
   "execution_count": 94,
   "metadata": {},
   "outputs": [
    {
     "data": {
      "text/html": [
       "<div>\n",
       "<style scoped>\n",
       "    .dataframe tbody tr th:only-of-type {\n",
       "        vertical-align: middle;\n",
       "    }\n",
       "\n",
       "    .dataframe tbody tr th {\n",
       "        vertical-align: top;\n",
       "    }\n",
       "\n",
       "    .dataframe thead th {\n",
       "        text-align: right;\n",
       "    }\n",
       "</style>\n",
       "<table border=\"1\" class=\"dataframe\">\n",
       "  <thead>\n",
       "    <tr style=\"text-align: right;\">\n",
       "      <th></th>\n",
       "      <th>0</th>\n",
       "    </tr>\n",
       "  </thead>\n",
       "  <tbody>\n",
       "    <tr>\n",
       "      <td>lot_size</td>\n",
       "      <td>6.970161</td>\n",
       "    </tr>\n",
       "    <tr>\n",
       "      <td>restaurant_count</td>\n",
       "      <td>3.209055</td>\n",
       "    </tr>\n",
       "    <tr>\n",
       "      <td>area</td>\n",
       "      <td>1.842486</td>\n",
       "    </tr>\n",
       "    <tr>\n",
       "      <td>arts_count</td>\n",
       "      <td>1.707064</td>\n",
       "    </tr>\n",
       "    <tr>\n",
       "      <td>walk</td>\n",
       "      <td>0.176959</td>\n",
       "    </tr>\n",
       "    <tr>\n",
       "      <td>grocery_count</td>\n",
       "      <td>1.669556</td>\n",
       "    </tr>\n",
       "    <tr>\n",
       "      <td>number_baths</td>\n",
       "      <td>1.364899</td>\n",
       "    </tr>\n",
       "    <tr>\n",
       "      <td>number_beds</td>\n",
       "      <td>0.204227</td>\n",
       "    </tr>\n",
       "    <tr>\n",
       "      <td>restaurant_rating</td>\n",
       "      <td>-2.458642</td>\n",
       "    </tr>\n",
       "    <tr>\n",
       "      <td>restaurant_price</td>\n",
       "      <td>-1.340235</td>\n",
       "    </tr>\n",
       "    <tr>\n",
       "      <td>transit</td>\n",
       "      <td>-0.221332</td>\n",
       "    </tr>\n",
       "  </tbody>\n",
       "</table>\n",
       "</div>"
      ],
      "text/plain": [
       "                          0\n",
       "lot_size           6.970161\n",
       "restaurant_count   3.209055\n",
       "area               1.842486\n",
       "arts_count         1.707064\n",
       "walk               0.176959\n",
       "grocery_count      1.669556\n",
       "number_baths       1.364899\n",
       "number_beds        0.204227\n",
       "restaurant_rating -2.458642\n",
       "restaurant_price  -1.340235\n",
       "transit           -0.221332"
      ]
     },
     "execution_count": 94,
     "metadata": {},
     "output_type": "execute_result"
    }
   ],
   "source": [
    "feature_examination = [\"lot_size\", \"restaurant_count\", 'area', 'arts_count', 'walk',\n",
    "                       'grocery_count', 'number_baths', 'number_beds',\n",
    "                       'restaurant_rating', 'restaurant_price', 'transit' ]\n",
    "feature_skewness = {}\n",
    "for i in feature_examination:\n",
    "    feature_skewness[i] = skew(df[i])\n",
    "s = pd.DataFrame.from_dict(feature_skewness, orient='index')\n",
    "s"
   ]
  },
  {
   "cell_type": "markdown",
   "metadata": {},
   "source": [
    "Above are the features with their skewnesses. We then used `Box Cox Transformation` to normalize them. We chose features whose skewness larger than 1 or less than -1. We used the `lambda` that maximizes the `log-likelihood` for the function. Since some features contain 0, we can not use the default method to choose lambda. We set lambda to be 0.15 according to another [house price prediction project](https://brianmusisi.com/design/Predicting+House+Prices-2.html)."
   ]
  },
  {
   "cell_type": "code",
   "execution_count": 97,
   "metadata": {},
   "outputs": [],
   "source": [
    "s_1 = s[(s[0] > 1 )]\n",
    "res = list(s_1.index)\n",
    "new = []\n",
    "df = df[df['area'] > 0]\n",
    "for i in res:\n",
    "    new_column = i + \"_t\"\n",
    "    new.append(new_column)\n",
    "    df[new_column] = boxcox1p(df[i], 0.1)\n",
    "s_n1 = s[(s[0] < -1 )]\n",
    "res_n = list(s_n1.index)\n",
    "for i in res_n:\n",
    "    new_column = i + \"_t\"\n",
    "    new.append(new_column)\n",
    "    df[new_column] = boxcox1p(df[i], 3)"
   ]
  },
  {
   "cell_type": "code",
   "execution_count": 98,
   "metadata": {},
   "outputs": [
    {
     "data": {
      "text/html": [
       "<div>\n",
       "<style scoped>\n",
       "    .dataframe tbody tr th:only-of-type {\n",
       "        vertical-align: middle;\n",
       "    }\n",
       "\n",
       "    .dataframe tbody tr th {\n",
       "        vertical-align: top;\n",
       "    }\n",
       "\n",
       "    .dataframe thead th {\n",
       "        text-align: right;\n",
       "    }\n",
       "</style>\n",
       "<table border=\"1\" class=\"dataframe\">\n",
       "  <thead>\n",
       "    <tr style=\"text-align: right;\">\n",
       "      <th></th>\n",
       "      <th>0</th>\n",
       "    </tr>\n",
       "  </thead>\n",
       "  <tbody>\n",
       "    <tr>\n",
       "      <td>lot_size_t</td>\n",
       "      <td>0.356158</td>\n",
       "    </tr>\n",
       "    <tr>\n",
       "      <td>restaurant_count_t</td>\n",
       "      <td>-0.063057</td>\n",
       "    </tr>\n",
       "    <tr>\n",
       "      <td>area_t</td>\n",
       "      <td>0.455719</td>\n",
       "    </tr>\n",
       "    <tr>\n",
       "      <td>arts_count_t</td>\n",
       "      <td>0.770425</td>\n",
       "    </tr>\n",
       "    <tr>\n",
       "      <td>grocery_count_t</td>\n",
       "      <td>0.281307</td>\n",
       "    </tr>\n",
       "    <tr>\n",
       "      <td>number_baths_t</td>\n",
       "      <td>0.923894</td>\n",
       "    </tr>\n",
       "    <tr>\n",
       "      <td>restaurant_rating_t</td>\n",
       "      <td>-0.631014</td>\n",
       "    </tr>\n",
       "    <tr>\n",
       "      <td>restaurant_price_t</td>\n",
       "      <td>0.516517</td>\n",
       "    </tr>\n",
       "  </tbody>\n",
       "</table>\n",
       "</div>"
      ],
      "text/plain": [
       "                            0\n",
       "lot_size_t           0.356158\n",
       "restaurant_count_t  -0.063057\n",
       "area_t               0.455719\n",
       "arts_count_t         0.770425\n",
       "grocery_count_t      0.281307\n",
       "number_baths_t       0.923894\n",
       "restaurant_rating_t -0.631014\n",
       "restaurant_price_t   0.516517"
      ]
     },
     "execution_count": 98,
     "metadata": {},
     "output_type": "execute_result"
    }
   ],
   "source": [
    "feature_skewness_new = {}\n",
    "for i in new:\n",
    "    feature_skewness_new[i] = skew(df[i])\n",
    "s_new = pd.DataFrame.from_dict(feature_skewness_new, orient='index')\n",
    "s_new"
   ]
  },
  {
   "cell_type": "markdown",
   "metadata": {},
   "source": [
    "The `Box Cox Transformation` makes the features more normalized."
   ]
  },
  {
   "cell_type": "markdown",
   "metadata": {},
   "source": [
    "#### Training and Testing Dataset\n",
    "\n",
    "The last thing we need to do is to split our dataset into training and testing dataset. In this project, we will use 30% of the data to be our testing dataset and 70% of them to be used for trainging."
   ]
  },
  {
   "cell_type": "code",
   "execution_count": 99,
   "metadata": {},
   "outputs": [],
   "source": [
    "train, test = train_test_split(df, test_size=0.3)"
   ]
  },
  {
   "cell_type": "markdown",
   "metadata": {},
   "source": [
    "## Model"
   ]
  },
  {
   "cell_type": "markdown",
   "metadata": {},
   "source": [
    "We will use the training dataset that we generated above for training model. We chose several popular models that we found in the previous house price prediction projects. We built each of them and used ensemble method to generate a better prediction outcome. \n",
    "\n",
    "\n",
    "Lasso\n",
    "Random Forest\n",
    "ada boost\n",
    "SVR\n",
    "Linear Regression\n",
    "KNN\n",
    "Enet"
   ]
  },
  {
   "cell_type": "markdown",
   "metadata": {},
   "source": [
    "LightGBM\n",
    "Lasso\n",
    "RandomForest\n",
    "https://www.kaggle.com/flennerhag/ml-ensemble-scikit-learn-style-ensemble-learning#4.-Ensemble-learning"
   ]
  },
  {
   "cell_type": "markdown",
   "metadata": {},
   "source": [
    "The model in this project is based on the idea of esembling. "
   ]
  },
  {
   "cell_type": "code",
   "execution_count": 101,
   "metadata": {},
   "outputs": [],
   "source": [
    "drop_list = [\"price\",\"lot_size\", \"restaurant_count\", \"area\",\"arts_count\",\n",
    "             \"grocery_count\", \"number_baths\",\"restaurant_rating\",\n",
    "             \"restaurant_price\"]\n",
    "df_model = df.drop(drop_list, axis = 1)\n",
    "\n",
    "\n"
   ]
  },
  {
   "cell_type": "code",
   "execution_count": 102,
   "metadata": {},
   "outputs": [
    {
     "name": "stdout",
     "output_type": "stream",
     "text": [
      "Encoding dishwasher\n",
      "Encoding microwave\n",
      "Encoding washer\n",
      "Encoding dryer\n",
      "Encoding refrigerator\n",
      "Encoding building_type\n",
      "Encoding heating_system\n",
      "Encoding cooling_system\n",
      "Encoding parking\n",
      "Encoding stories\n",
      "Encoding postcode\n",
      "<class 'pandas.core.frame.DataFrame'>\n",
      "Int64Index: 6044 entries, 0 to 6043\n",
      "Data columns (total 26 columns):\n",
      "number_beds            6044 non-null int64\n",
      "built_year             6044 non-null int64\n",
      "latitude               6044 non-null float64\n",
      "longitude              6044 non-null float64\n",
      "walk                   6044 non-null float64\n",
      "transit                6044 non-null int64\n",
      "price_t                6044 non-null float64\n",
      "lot_size_t             6044 non-null float64\n",
      "restaurant_count_t     6044 non-null float64\n",
      "area_t                 6044 non-null float64\n",
      "arts_count_t           6044 non-null float64\n",
      "grocery_count_t        6044 non-null float64\n",
      "number_baths_t         6044 non-null float64\n",
      "restaurant_rating_t    6044 non-null float64\n",
      "restaurant_price_t     6044 non-null float64\n",
      "dishwasher             6044 non-null int64\n",
      "microwave              6044 non-null int64\n",
      "washer                 6044 non-null int64\n",
      "dryer                  6044 non-null int64\n",
      "refrigerator           6044 non-null int64\n",
      "building_type          6044 non-null int64\n",
      "heating_system         6044 non-null int64\n",
      "cooling_system         6044 non-null int64\n",
      "parking                6044 non-null int64\n",
      "stories                6044 non-null int64\n",
      "postcode               6044 non-null int64\n",
      "dtypes: float64(12), int64(14)\n",
      "memory usage: 1.2 MB\n"
     ]
    }
   ],
   "source": [
    "from sklearn.preprocessing import LabelEncoder\n",
    "numerics = ['int64', 'float64']\n",
    "df_num = df_model.select_dtypes(include = numerics)\n",
    "df_cat = df_model.select_dtypes(include = \"object\")\n",
    "\n",
    "df_process = pd.DataFrame()\n",
    "\n",
    "# For each categorical column\n",
    "# We fit a label encoder, transform our column and \n",
    "# add it to our new dataframe\n",
    "label_encoders = {}\n",
    "for col in df_cat.columns:\n",
    "    print(\"Encoding \" + col)\n",
    "    new_label = LabelEncoder()\n",
    "    df_process[col] = new_label.fit_transform(df_model[col])\n",
    "    label_encoders[col] = new_label\n",
    "\n",
    "df_model_label = pd.concat([df_num, df_process], axis = 1)\n",
    "df_model_label.info()"
   ]
  },
  {
   "cell_type": "code",
   "execution_count": 103,
   "metadata": {},
   "outputs": [
    {
     "data": {
      "text/html": [
       "<div>\n",
       "<style scoped>\n",
       "    .dataframe tbody tr th:only-of-type {\n",
       "        vertical-align: middle;\n",
       "    }\n",
       "\n",
       "    .dataframe tbody tr th {\n",
       "        vertical-align: top;\n",
       "    }\n",
       "\n",
       "    .dataframe thead th {\n",
       "        text-align: right;\n",
       "    }\n",
       "</style>\n",
       "<table border=\"1\" class=\"dataframe\">\n",
       "  <thead>\n",
       "    <tr style=\"text-align: right;\">\n",
       "      <th></th>\n",
       "      <th>number_beds</th>\n",
       "      <th>built_year</th>\n",
       "      <th>latitude</th>\n",
       "      <th>longitude</th>\n",
       "      <th>walk</th>\n",
       "      <th>transit</th>\n",
       "      <th>price_t</th>\n",
       "      <th>lot_size_t</th>\n",
       "      <th>restaurant_count_t</th>\n",
       "      <th>area_t</th>\n",
       "      <th>...</th>\n",
       "      <th>microwave</th>\n",
       "      <th>washer</th>\n",
       "      <th>dryer</th>\n",
       "      <th>refrigerator</th>\n",
       "      <th>building_type</th>\n",
       "      <th>heating_system</th>\n",
       "      <th>cooling_system</th>\n",
       "      <th>parking</th>\n",
       "      <th>stories</th>\n",
       "      <th>postcode</th>\n",
       "    </tr>\n",
       "  </thead>\n",
       "  <tbody>\n",
       "    <tr>\n",
       "      <td>0</td>\n",
       "      <td>3</td>\n",
       "      <td>2008</td>\n",
       "      <td>40.381554</td>\n",
       "      <td>-80.011000</td>\n",
       "      <td>76.0</td>\n",
       "      <td>69</td>\n",
       "      <td>12.629708</td>\n",
       "      <td>13.284717</td>\n",
       "      <td>3.195079</td>\n",
       "      <td>11.109463</td>\n",
       "      <td>...</td>\n",
       "      <td>1</td>\n",
       "      <td>0</td>\n",
       "      <td>0</td>\n",
       "      <td>1</td>\n",
       "      <td>3</td>\n",
       "      <td>3</td>\n",
       "      <td>0</td>\n",
       "      <td>0</td>\n",
       "      <td>1</td>\n",
       "      <td>25</td>\n",
       "    </tr>\n",
       "    <tr>\n",
       "      <td>1</td>\n",
       "      <td>3</td>\n",
       "      <td>1950</td>\n",
       "      <td>40.367800</td>\n",
       "      <td>-80.075030</td>\n",
       "      <td>13.0</td>\n",
       "      <td>27</td>\n",
       "      <td>12.563751</td>\n",
       "      <td>14.855876</td>\n",
       "      <td>1.161232</td>\n",
       "      <td>10.374939</td>\n",
       "      <td>...</td>\n",
       "      <td>0</td>\n",
       "      <td>0</td>\n",
       "      <td>0</td>\n",
       "      <td>0</td>\n",
       "      <td>2</td>\n",
       "      <td>8</td>\n",
       "      <td>0</td>\n",
       "      <td>0</td>\n",
       "      <td>1</td>\n",
       "      <td>38</td>\n",
       "    </tr>\n",
       "    <tr>\n",
       "      <td>2</td>\n",
       "      <td>3</td>\n",
       "      <td>1920</td>\n",
       "      <td>40.504215</td>\n",
       "      <td>-80.047740</td>\n",
       "      <td>21.0</td>\n",
       "      <td>34</td>\n",
       "      <td>12.495008</td>\n",
       "      <td>13.437198</td>\n",
       "      <td>3.622044</td>\n",
       "      <td>11.051071</td>\n",
       "      <td>...</td>\n",
       "      <td>0</td>\n",
       "      <td>1</td>\n",
       "      <td>1</td>\n",
       "      <td>1</td>\n",
       "      <td>2</td>\n",
       "      <td>8</td>\n",
       "      <td>6</td>\n",
       "      <td>23</td>\n",
       "      <td>1</td>\n",
       "      <td>1</td>\n",
       "    </tr>\n",
       "    <tr>\n",
       "      <td>3</td>\n",
       "      <td>3</td>\n",
       "      <td>1940</td>\n",
       "      <td>40.362812</td>\n",
       "      <td>-79.978810</td>\n",
       "      <td>57.0</td>\n",
       "      <td>42</td>\n",
       "      <td>12.061053</td>\n",
       "      <td>14.718583</td>\n",
       "      <td>4.097307</td>\n",
       "      <td>10.744771</td>\n",
       "      <td>...</td>\n",
       "      <td>0</td>\n",
       "      <td>0</td>\n",
       "      <td>0</td>\n",
       "      <td>0</td>\n",
       "      <td>2</td>\n",
       "      <td>8</td>\n",
       "      <td>9</td>\n",
       "      <td>0</td>\n",
       "      <td>0</td>\n",
       "      <td>26</td>\n",
       "    </tr>\n",
       "    <tr>\n",
       "      <td>4</td>\n",
       "      <td>3</td>\n",
       "      <td>1950</td>\n",
       "      <td>40.380720</td>\n",
       "      <td>-79.969870</td>\n",
       "      <td>76.0</td>\n",
       "      <td>69</td>\n",
       "      <td>12.295003</td>\n",
       "      <td>13.095013</td>\n",
       "      <td>3.682731</td>\n",
       "      <td>10.617640</td>\n",
       "      <td>...</td>\n",
       "      <td>0</td>\n",
       "      <td>0</td>\n",
       "      <td>0</td>\n",
       "      <td>0</td>\n",
       "      <td>2</td>\n",
       "      <td>8</td>\n",
       "      <td>0</td>\n",
       "      <td>0</td>\n",
       "      <td>5</td>\n",
       "      <td>26</td>\n",
       "    </tr>\n",
       "    <tr>\n",
       "      <td>...</td>\n",
       "      <td>...</td>\n",
       "      <td>...</td>\n",
       "      <td>...</td>\n",
       "      <td>...</td>\n",
       "      <td>...</td>\n",
       "      <td>...</td>\n",
       "      <td>...</td>\n",
       "      <td>...</td>\n",
       "      <td>...</td>\n",
       "      <td>...</td>\n",
       "      <td>...</td>\n",
       "      <td>...</td>\n",
       "      <td>...</td>\n",
       "      <td>...</td>\n",
       "      <td>...</td>\n",
       "      <td>...</td>\n",
       "      <td>...</td>\n",
       "      <td>...</td>\n",
       "      <td>...</td>\n",
       "      <td>...</td>\n",
       "      <td>...</td>\n",
       "    </tr>\n",
       "    <tr>\n",
       "      <td>6039</td>\n",
       "      <td>3</td>\n",
       "      <td>1955</td>\n",
       "      <td>40.319862</td>\n",
       "      <td>-80.083725</td>\n",
       "      <td>18.0</td>\n",
       "      <td>0</td>\n",
       "      <td>12.931205</td>\n",
       "      <td>17.206192</td>\n",
       "      <td>2.148140</td>\n",
       "      <td>10.741958</td>\n",
       "      <td>...</td>\n",
       "      <td>0</td>\n",
       "      <td>0</td>\n",
       "      <td>0</td>\n",
       "      <td>0</td>\n",
       "      <td>2</td>\n",
       "      <td>8</td>\n",
       "      <td>0</td>\n",
       "      <td>0</td>\n",
       "      <td>0</td>\n",
       "      <td>37</td>\n",
       "    </tr>\n",
       "    <tr>\n",
       "      <td>6040</td>\n",
       "      <td>3</td>\n",
       "      <td>1900</td>\n",
       "      <td>40.500248</td>\n",
       "      <td>-80.060110</td>\n",
       "      <td>75.0</td>\n",
       "      <td>40</td>\n",
       "      <td>12.421188</td>\n",
       "      <td>13.875101</td>\n",
       "      <td>4.269436</td>\n",
       "      <td>11.016325</td>\n",
       "      <td>...</td>\n",
       "      <td>0</td>\n",
       "      <td>0</td>\n",
       "      <td>0</td>\n",
       "      <td>0</td>\n",
       "      <td>2</td>\n",
       "      <td>8</td>\n",
       "      <td>0</td>\n",
       "      <td>27</td>\n",
       "      <td>1</td>\n",
       "      <td>1</td>\n",
       "    </tr>\n",
       "    <tr>\n",
       "      <td>6041</td>\n",
       "      <td>3</td>\n",
       "      <td>1950</td>\n",
       "      <td>40.492554</td>\n",
       "      <td>-79.890110</td>\n",
       "      <td>14.0</td>\n",
       "      <td>35</td>\n",
       "      <td>13.021440</td>\n",
       "      <td>15.110311</td>\n",
       "      <td>3.492828</td>\n",
       "      <td>11.240314</td>\n",
       "      <td>...</td>\n",
       "      <td>1</td>\n",
       "      <td>1</td>\n",
       "      <td>1</td>\n",
       "      <td>1</td>\n",
       "      <td>2</td>\n",
       "      <td>3</td>\n",
       "      <td>0</td>\n",
       "      <td>0</td>\n",
       "      <td>1</td>\n",
       "      <td>14</td>\n",
       "    </tr>\n",
       "    <tr>\n",
       "      <td>6042</td>\n",
       "      <td>3</td>\n",
       "      <td>1972</td>\n",
       "      <td>40.451103</td>\n",
       "      <td>-79.709590</td>\n",
       "      <td>27.0</td>\n",
       "      <td>21</td>\n",
       "      <td>12.581082</td>\n",
       "      <td>14.732480</td>\n",
       "      <td>3.020055</td>\n",
       "      <td>10.983590</td>\n",
       "      <td>...</td>\n",
       "      <td>1</td>\n",
       "      <td>1</td>\n",
       "      <td>1</td>\n",
       "      <td>1</td>\n",
       "      <td>2</td>\n",
       "      <td>3</td>\n",
       "      <td>0</td>\n",
       "      <td>0</td>\n",
       "      <td>0</td>\n",
       "      <td>36</td>\n",
       "    </tr>\n",
       "    <tr>\n",
       "      <td>6043</td>\n",
       "      <td>3</td>\n",
       "      <td>1900</td>\n",
       "      <td>40.417280</td>\n",
       "      <td>-79.977490</td>\n",
       "      <td>55.0</td>\n",
       "      <td>48</td>\n",
       "      <td>11.810442</td>\n",
       "      <td>12.176550</td>\n",
       "      <td>5.315312</td>\n",
       "      <td>11.437562</td>\n",
       "      <td>...</td>\n",
       "      <td>0</td>\n",
       "      <td>1</td>\n",
       "      <td>1</td>\n",
       "      <td>0</td>\n",
       "      <td>2</td>\n",
       "      <td>7</td>\n",
       "      <td>6</td>\n",
       "      <td>27</td>\n",
       "      <td>5</td>\n",
       "      <td>9</td>\n",
       "    </tr>\n",
       "  </tbody>\n",
       "</table>\n",
       "<p>6044 rows × 26 columns</p>\n",
       "</div>"
      ],
      "text/plain": [
       "      number_beds  built_year   latitude  longitude  walk  transit    price_t  \\\n",
       "0               3        2008  40.381554 -80.011000  76.0       69  12.629708   \n",
       "1               3        1950  40.367800 -80.075030  13.0       27  12.563751   \n",
       "2               3        1920  40.504215 -80.047740  21.0       34  12.495008   \n",
       "3               3        1940  40.362812 -79.978810  57.0       42  12.061053   \n",
       "4               3        1950  40.380720 -79.969870  76.0       69  12.295003   \n",
       "...           ...         ...        ...        ...   ...      ...        ...   \n",
       "6039            3        1955  40.319862 -80.083725  18.0        0  12.931205   \n",
       "6040            3        1900  40.500248 -80.060110  75.0       40  12.421188   \n",
       "6041            3        1950  40.492554 -79.890110  14.0       35  13.021440   \n",
       "6042            3        1972  40.451103 -79.709590  27.0       21  12.581082   \n",
       "6043            3        1900  40.417280 -79.977490  55.0       48  11.810442   \n",
       "\n",
       "      lot_size_t  restaurant_count_t     area_t  ...  microwave  washer  \\\n",
       "0      13.284717            3.195079  11.109463  ...          1       0   \n",
       "1      14.855876            1.161232  10.374939  ...          0       0   \n",
       "2      13.437198            3.622044  11.051071  ...          0       1   \n",
       "3      14.718583            4.097307  10.744771  ...          0       0   \n",
       "4      13.095013            3.682731  10.617640  ...          0       0   \n",
       "...          ...                 ...        ...  ...        ...     ...   \n",
       "6039   17.206192            2.148140  10.741958  ...          0       0   \n",
       "6040   13.875101            4.269436  11.016325  ...          0       0   \n",
       "6041   15.110311            3.492828  11.240314  ...          1       1   \n",
       "6042   14.732480            3.020055  10.983590  ...          1       1   \n",
       "6043   12.176550            5.315312  11.437562  ...          0       1   \n",
       "\n",
       "      dryer  refrigerator  building_type  heating_system  cooling_system  \\\n",
       "0         0             1              3               3               0   \n",
       "1         0             0              2               8               0   \n",
       "2         1             1              2               8               6   \n",
       "3         0             0              2               8               9   \n",
       "4         0             0              2               8               0   \n",
       "...     ...           ...            ...             ...             ...   \n",
       "6039      0             0              2               8               0   \n",
       "6040      0             0              2               8               0   \n",
       "6041      1             1              2               3               0   \n",
       "6042      1             1              2               3               0   \n",
       "6043      1             0              2               7               6   \n",
       "\n",
       "      parking  stories  postcode  \n",
       "0           0        1        25  \n",
       "1           0        1        38  \n",
       "2          23        1         1  \n",
       "3           0        0        26  \n",
       "4           0        5        26  \n",
       "...       ...      ...       ...  \n",
       "6039        0        0        37  \n",
       "6040       27        1         1  \n",
       "6041        0        1        14  \n",
       "6042        0        0        36  \n",
       "6043       27        5         9  \n",
       "\n",
       "[6044 rows x 26 columns]"
      ]
     },
     "execution_count": 103,
     "metadata": {},
     "output_type": "execute_result"
    }
   ],
   "source": [
    "df_model_label "
   ]
  },
  {
   "cell_type": "code",
   "execution_count": 72,
   "metadata": {},
   "outputs": [
    {
     "ename": "ValueError",
     "evalue": "could not convert string to float: 'Asphalt'",
     "output_type": "error",
     "traceback": [
      "\u001b[1;31m---------------------------------------------------------------------------\u001b[0m",
      "\u001b[1;31mValueError\u001b[0m                                Traceback (most recent call last)",
      "\u001b[1;32m<ipython-input-72-229f5641f324>\u001b[0m in \u001b[0;36m<module>\u001b[1;34m()\u001b[0m\n\u001b[0;32m      2\u001b[0m \u001b[0mplt\u001b[0m\u001b[1;33m.\u001b[0m\u001b[0mfigure\u001b[0m\u001b[1;33m(\u001b[0m\u001b[0mfigsize\u001b[0m\u001b[1;33m=\u001b[0m\u001b[1;33m(\u001b[0m\u001b[1;36m14\u001b[0m\u001b[1;33m,\u001b[0m\u001b[1;36m12\u001b[0m\u001b[1;33m)\u001b[0m\u001b[1;33m)\u001b[0m\u001b[1;33m\u001b[0m\u001b[0m\n\u001b[0;32m      3\u001b[0m \u001b[0mplt\u001b[0m\u001b[1;33m.\u001b[0m\u001b[0mtitle\u001b[0m\u001b[1;33m(\u001b[0m\u001b[1;34m'Pearson Correlation of Features'\u001b[0m\u001b[1;33m,\u001b[0m \u001b[0my\u001b[0m\u001b[1;33m=\u001b[0m\u001b[1;36m1.05\u001b[0m\u001b[1;33m,\u001b[0m \u001b[0msize\u001b[0m\u001b[1;33m=\u001b[0m\u001b[1;36m15\u001b[0m\u001b[1;33m)\u001b[0m\u001b[1;33m\u001b[0m\u001b[0m\n\u001b[1;32m----> 4\u001b[1;33m sns.heatmap(train.astype(float).corr(),linewidths=0.1,vmax=1.0, \n\u001b[0m\u001b[0;32m      5\u001b[0m             square=True, cmap=colormap, linecolor='white', annot=True)\n",
      "\u001b[1;32m~\\AppData\\Roaming\\Python\\Python36\\site-packages\\pandas\\core\\generic.py\u001b[0m in \u001b[0;36mastype\u001b[1;34m(self, dtype, copy, errors, **kwargs)\u001b[0m\n\u001b[0;32m   5880\u001b[0m             \u001b[1;31m# else, only a single dtype is given\u001b[0m\u001b[1;33m\u001b[0m\u001b[1;33m\u001b[0m\u001b[0m\n\u001b[0;32m   5881\u001b[0m             new_data = self._data.astype(\n\u001b[1;32m-> 5882\u001b[1;33m                 \u001b[0mdtype\u001b[0m\u001b[1;33m=\u001b[0m\u001b[0mdtype\u001b[0m\u001b[1;33m,\u001b[0m \u001b[0mcopy\u001b[0m\u001b[1;33m=\u001b[0m\u001b[0mcopy\u001b[0m\u001b[1;33m,\u001b[0m \u001b[0merrors\u001b[0m\u001b[1;33m=\u001b[0m\u001b[0merrors\u001b[0m\u001b[1;33m,\u001b[0m \u001b[1;33m**\u001b[0m\u001b[0mkwargs\u001b[0m\u001b[1;33m\u001b[0m\u001b[0m\n\u001b[0m\u001b[0;32m   5883\u001b[0m             )\n\u001b[0;32m   5884\u001b[0m             \u001b[1;32mreturn\u001b[0m \u001b[0mself\u001b[0m\u001b[1;33m.\u001b[0m\u001b[0m_constructor\u001b[0m\u001b[1;33m(\u001b[0m\u001b[0mnew_data\u001b[0m\u001b[1;33m)\u001b[0m\u001b[1;33m.\u001b[0m\u001b[0m__finalize__\u001b[0m\u001b[1;33m(\u001b[0m\u001b[0mself\u001b[0m\u001b[1;33m)\u001b[0m\u001b[1;33m\u001b[0m\u001b[0m\n",
      "\u001b[1;32m~\\AppData\\Roaming\\Python\\Python36\\site-packages\\pandas\\core\\internals\\managers.py\u001b[0m in \u001b[0;36mastype\u001b[1;34m(self, dtype, **kwargs)\u001b[0m\n\u001b[0;32m    579\u001b[0m \u001b[1;33m\u001b[0m\u001b[0m\n\u001b[0;32m    580\u001b[0m     \u001b[1;32mdef\u001b[0m \u001b[0mastype\u001b[0m\u001b[1;33m(\u001b[0m\u001b[0mself\u001b[0m\u001b[1;33m,\u001b[0m \u001b[0mdtype\u001b[0m\u001b[1;33m,\u001b[0m \u001b[1;33m**\u001b[0m\u001b[0mkwargs\u001b[0m\u001b[1;33m)\u001b[0m\u001b[1;33m:\u001b[0m\u001b[1;33m\u001b[0m\u001b[0m\n\u001b[1;32m--> 581\u001b[1;33m         \u001b[1;32mreturn\u001b[0m \u001b[0mself\u001b[0m\u001b[1;33m.\u001b[0m\u001b[0mapply\u001b[0m\u001b[1;33m(\u001b[0m\u001b[1;34m\"astype\"\u001b[0m\u001b[1;33m,\u001b[0m \u001b[0mdtype\u001b[0m\u001b[1;33m=\u001b[0m\u001b[0mdtype\u001b[0m\u001b[1;33m,\u001b[0m \u001b[1;33m**\u001b[0m\u001b[0mkwargs\u001b[0m\u001b[1;33m)\u001b[0m\u001b[1;33m\u001b[0m\u001b[0m\n\u001b[0m\u001b[0;32m    582\u001b[0m \u001b[1;33m\u001b[0m\u001b[0m\n\u001b[0;32m    583\u001b[0m     \u001b[1;32mdef\u001b[0m \u001b[0mconvert\u001b[0m\u001b[1;33m(\u001b[0m\u001b[0mself\u001b[0m\u001b[1;33m,\u001b[0m \u001b[1;33m**\u001b[0m\u001b[0mkwargs\u001b[0m\u001b[1;33m)\u001b[0m\u001b[1;33m:\u001b[0m\u001b[1;33m\u001b[0m\u001b[0m\n",
      "\u001b[1;32m~\\AppData\\Roaming\\Python\\Python36\\site-packages\\pandas\\core\\internals\\managers.py\u001b[0m in \u001b[0;36mapply\u001b[1;34m(self, f, axes, filter, do_integrity_check, consolidate, **kwargs)\u001b[0m\n\u001b[0;32m    436\u001b[0m                     \u001b[0mkwargs\u001b[0m\u001b[1;33m[\u001b[0m\u001b[0mk\u001b[0m\u001b[1;33m]\u001b[0m \u001b[1;33m=\u001b[0m \u001b[0mobj\u001b[0m\u001b[1;33m.\u001b[0m\u001b[0mreindex\u001b[0m\u001b[1;33m(\u001b[0m\u001b[0mb_items\u001b[0m\u001b[1;33m,\u001b[0m \u001b[0maxis\u001b[0m\u001b[1;33m=\u001b[0m\u001b[0maxis\u001b[0m\u001b[1;33m,\u001b[0m \u001b[0mcopy\u001b[0m\u001b[1;33m=\u001b[0m\u001b[0malign_copy\u001b[0m\u001b[1;33m)\u001b[0m\u001b[1;33m\u001b[0m\u001b[0m\n\u001b[0;32m    437\u001b[0m \u001b[1;33m\u001b[0m\u001b[0m\n\u001b[1;32m--> 438\u001b[1;33m             \u001b[0mapplied\u001b[0m \u001b[1;33m=\u001b[0m \u001b[0mgetattr\u001b[0m\u001b[1;33m(\u001b[0m\u001b[0mb\u001b[0m\u001b[1;33m,\u001b[0m \u001b[0mf\u001b[0m\u001b[1;33m)\u001b[0m\u001b[1;33m(\u001b[0m\u001b[1;33m**\u001b[0m\u001b[0mkwargs\u001b[0m\u001b[1;33m)\u001b[0m\u001b[1;33m\u001b[0m\u001b[0m\n\u001b[0m\u001b[0;32m    439\u001b[0m             \u001b[0mresult_blocks\u001b[0m \u001b[1;33m=\u001b[0m \u001b[0m_extend_blocks\u001b[0m\u001b[1;33m(\u001b[0m\u001b[0mapplied\u001b[0m\u001b[1;33m,\u001b[0m \u001b[0mresult_blocks\u001b[0m\u001b[1;33m)\u001b[0m\u001b[1;33m\u001b[0m\u001b[0m\n\u001b[0;32m    440\u001b[0m \u001b[1;33m\u001b[0m\u001b[0m\n",
      "\u001b[1;32m~\\AppData\\Roaming\\Python\\Python36\\site-packages\\pandas\\core\\internals\\blocks.py\u001b[0m in \u001b[0;36mastype\u001b[1;34m(self, dtype, copy, errors, values, **kwargs)\u001b[0m\n\u001b[0;32m    557\u001b[0m \u001b[1;33m\u001b[0m\u001b[0m\n\u001b[0;32m    558\u001b[0m     \u001b[1;32mdef\u001b[0m \u001b[0mastype\u001b[0m\u001b[1;33m(\u001b[0m\u001b[0mself\u001b[0m\u001b[1;33m,\u001b[0m \u001b[0mdtype\u001b[0m\u001b[1;33m,\u001b[0m \u001b[0mcopy\u001b[0m\u001b[1;33m=\u001b[0m\u001b[1;32mFalse\u001b[0m\u001b[1;33m,\u001b[0m \u001b[0merrors\u001b[0m\u001b[1;33m=\u001b[0m\u001b[1;34m\"raise\"\u001b[0m\u001b[1;33m,\u001b[0m \u001b[0mvalues\u001b[0m\u001b[1;33m=\u001b[0m\u001b[1;32mNone\u001b[0m\u001b[1;33m,\u001b[0m \u001b[1;33m**\u001b[0m\u001b[0mkwargs\u001b[0m\u001b[1;33m)\u001b[0m\u001b[1;33m:\u001b[0m\u001b[1;33m\u001b[0m\u001b[0m\n\u001b[1;32m--> 559\u001b[1;33m         \u001b[1;32mreturn\u001b[0m \u001b[0mself\u001b[0m\u001b[1;33m.\u001b[0m\u001b[0m_astype\u001b[0m\u001b[1;33m(\u001b[0m\u001b[0mdtype\u001b[0m\u001b[1;33m,\u001b[0m \u001b[0mcopy\u001b[0m\u001b[1;33m=\u001b[0m\u001b[0mcopy\u001b[0m\u001b[1;33m,\u001b[0m \u001b[0merrors\u001b[0m\u001b[1;33m=\u001b[0m\u001b[0merrors\u001b[0m\u001b[1;33m,\u001b[0m \u001b[0mvalues\u001b[0m\u001b[1;33m=\u001b[0m\u001b[0mvalues\u001b[0m\u001b[1;33m,\u001b[0m \u001b[1;33m**\u001b[0m\u001b[0mkwargs\u001b[0m\u001b[1;33m)\u001b[0m\u001b[1;33m\u001b[0m\u001b[0m\n\u001b[0m\u001b[0;32m    560\u001b[0m \u001b[1;33m\u001b[0m\u001b[0m\n\u001b[0;32m    561\u001b[0m     \u001b[1;32mdef\u001b[0m \u001b[0m_astype\u001b[0m\u001b[1;33m(\u001b[0m\u001b[0mself\u001b[0m\u001b[1;33m,\u001b[0m \u001b[0mdtype\u001b[0m\u001b[1;33m,\u001b[0m \u001b[0mcopy\u001b[0m\u001b[1;33m=\u001b[0m\u001b[1;32mFalse\u001b[0m\u001b[1;33m,\u001b[0m \u001b[0merrors\u001b[0m\u001b[1;33m=\u001b[0m\u001b[1;34m\"raise\"\u001b[0m\u001b[1;33m,\u001b[0m \u001b[0mvalues\u001b[0m\u001b[1;33m=\u001b[0m\u001b[1;32mNone\u001b[0m\u001b[1;33m,\u001b[0m \u001b[1;33m**\u001b[0m\u001b[0mkwargs\u001b[0m\u001b[1;33m)\u001b[0m\u001b[1;33m:\u001b[0m\u001b[1;33m\u001b[0m\u001b[0m\n",
      "\u001b[1;32m~\\AppData\\Roaming\\Python\\Python36\\site-packages\\pandas\\core\\internals\\blocks.py\u001b[0m in \u001b[0;36m_astype\u001b[1;34m(self, dtype, copy, errors, values, **kwargs)\u001b[0m\n\u001b[0;32m    641\u001b[0m                     \u001b[1;31m# _astype_nansafe works fine with 1-d only\u001b[0m\u001b[1;33m\u001b[0m\u001b[1;33m\u001b[0m\u001b[0m\n\u001b[0;32m    642\u001b[0m                     \u001b[0mvals1d\u001b[0m \u001b[1;33m=\u001b[0m \u001b[0mvalues\u001b[0m\u001b[1;33m.\u001b[0m\u001b[0mravel\u001b[0m\u001b[1;33m(\u001b[0m\u001b[1;33m)\u001b[0m\u001b[1;33m\u001b[0m\u001b[0m\n\u001b[1;32m--> 643\u001b[1;33m                     \u001b[0mvalues\u001b[0m \u001b[1;33m=\u001b[0m \u001b[0mastype_nansafe\u001b[0m\u001b[1;33m(\u001b[0m\u001b[0mvals1d\u001b[0m\u001b[1;33m,\u001b[0m \u001b[0mdtype\u001b[0m\u001b[1;33m,\u001b[0m \u001b[0mcopy\u001b[0m\u001b[1;33m=\u001b[0m\u001b[1;32mTrue\u001b[0m\u001b[1;33m,\u001b[0m \u001b[1;33m**\u001b[0m\u001b[0mkwargs\u001b[0m\u001b[1;33m)\u001b[0m\u001b[1;33m\u001b[0m\u001b[0m\n\u001b[0m\u001b[0;32m    644\u001b[0m \u001b[1;33m\u001b[0m\u001b[0m\n\u001b[0;32m    645\u001b[0m                 \u001b[1;31m# TODO(extension)\u001b[0m\u001b[1;33m\u001b[0m\u001b[1;33m\u001b[0m\u001b[0m\n",
      "\u001b[1;32m~\\AppData\\Roaming\\Python\\Python36\\site-packages\\pandas\\core\\dtypes\\cast.py\u001b[0m in \u001b[0;36mastype_nansafe\u001b[1;34m(arr, dtype, copy, skipna)\u001b[0m\n\u001b[0;32m    727\u001b[0m     \u001b[1;32mif\u001b[0m \u001b[0mcopy\u001b[0m \u001b[1;32mor\u001b[0m \u001b[0mis_object_dtype\u001b[0m\u001b[1;33m(\u001b[0m\u001b[0marr\u001b[0m\u001b[1;33m)\u001b[0m \u001b[1;32mor\u001b[0m \u001b[0mis_object_dtype\u001b[0m\u001b[1;33m(\u001b[0m\u001b[0mdtype\u001b[0m\u001b[1;33m)\u001b[0m\u001b[1;33m:\u001b[0m\u001b[1;33m\u001b[0m\u001b[0m\n\u001b[0;32m    728\u001b[0m         \u001b[1;31m# Explicit copy, or required since NumPy can't view from / to object.\u001b[0m\u001b[1;33m\u001b[0m\u001b[1;33m\u001b[0m\u001b[0m\n\u001b[1;32m--> 729\u001b[1;33m         \u001b[1;32mreturn\u001b[0m \u001b[0marr\u001b[0m\u001b[1;33m.\u001b[0m\u001b[0mastype\u001b[0m\u001b[1;33m(\u001b[0m\u001b[0mdtype\u001b[0m\u001b[1;33m,\u001b[0m \u001b[0mcopy\u001b[0m\u001b[1;33m=\u001b[0m\u001b[1;32mTrue\u001b[0m\u001b[1;33m)\u001b[0m\u001b[1;33m\u001b[0m\u001b[0m\n\u001b[0m\u001b[0;32m    730\u001b[0m \u001b[1;33m\u001b[0m\u001b[0m\n\u001b[0;32m    731\u001b[0m     \u001b[1;32mreturn\u001b[0m \u001b[0marr\u001b[0m\u001b[1;33m.\u001b[0m\u001b[0mview\u001b[0m\u001b[1;33m(\u001b[0m\u001b[0mdtype\u001b[0m\u001b[1;33m)\u001b[0m\u001b[1;33m\u001b[0m\u001b[0m\n",
      "\u001b[1;31mValueError\u001b[0m: could not convert string to float: 'Asphalt'"
     ]
    }
   ],
   "source": [
    "colormap = plt.cm.RdBu\n",
    "plt.figure(figsize=(14,12))\n",
    "plt.title('Pearson Correlation of Features', y=1.05, size=15)\n",
    "sns.heatmap(train.astype(float).corr(),linewidths=0.1,vmax=1.0, \n",
    "            square=True, cmap=colormap, linecolor='white', annot=True)"
   ]
  },
  {
   "cell_type": "markdown",
   "metadata": {},
   "source": [
    "## Reference\n",
    "\n",
    "1. Pittsburgh property sold list, [link](https://www.trulia.com/sold/Pittsburgh,PA/).\n",
    "2. Introduction to Ensembling/Stacking in Python, [link](https://www.kaggle.com/arthurtok/introduction-to-ensembling-stacking-in-python/notebook).\n",
    "3. ML-Ensemble: Scikit-learn style ensemble learning, [link](https://www.kaggle.com/flennerhag/ml-ensemble-scikit-learn-style-ensemble-learning#4.-Ensemble-learning)"
   ]
  }
 ],
 "metadata": {
  "kernelspec": {
   "display_name": "Python 3",
   "language": "python",
   "name": "python3"
  },
  "language_info": {
   "codemirror_mode": {
    "name": "ipython",
    "version": 3
   },
   "file_extension": ".py",
   "mimetype": "text/x-python",
   "name": "python",
   "nbconvert_exporter": "python",
   "pygments_lexer": "ipython3",
   "version": "3.7.4"
  }
 },
 "nbformat": 4,
 "nbformat_minor": 2
}
